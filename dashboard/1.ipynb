{
 "cells": [
  {
   "cell_type": "code",
   "execution_count": 7,
   "id": "98f73347-0a22-4c80-8653-ddeca3819a24",
   "metadata": {},
   "outputs": [
    {
     "name": "stdout",
     "output_type": "stream",
     "text": [
      "2025-02-23 20:16:53,421 Starting Bokeh server version 3.6.3 (running on Tornado 6.4.2)\n",
      "2025-02-23 20:16:53,424 User authentication hooks NOT provided (default user enabled)\n",
      "2025-02-23 20:16:53,427 Bokeh app running at: http://localhost:5006/app\n",
      "2025-02-23 20:16:53,428 Starting Bokeh server with process id: 12238\n",
      "2025-02-23 20:16:54,850 WebSocket connection opened\n",
      "2025-02-23 20:16:54,857 ServerConnection created\n"
     ]
    }
   ],
   "source": [
    "!bokeh serve --show app.py\n"
   ]
  },
  {
   "cell_type": "code",
   "execution_count": 29,
   "id": "d8d79470-c354-471f-bb3e-068d6ace0b34",
   "metadata": {},
   "outputs": [
    {
     "name": "stdout",
     "output_type": "stream",
     "text": [
      "The autoreload extension is already loaded. To reload it, use:\n",
      "  %reload_ext autoreload\n"
     ]
    }
   ],
   "source": [
    "%load_ext autoreload\n",
    "%autoreload 2"
   ]
  },
  {
   "cell_type": "code",
   "execution_count": 1,
   "id": "59147dd5-5344-473b-b13b-72bc6b177465",
   "metadata": {},
   "outputs": [
    {
     "name": "stdout",
     "output_type": "stream",
     "text": [
      "2025-03-22 14:55:12,788 Starting Bokeh server version 3.6.3 (running on Tornado 6.4.2)\n",
      "2025-03-22 14:55:12,799 User authentication hooks NOT provided (default user enabled)\n",
      "2025-03-22 14:55:12,812 Bokeh app running at: http://localhost:5006/app3\n",
      "2025-03-22 14:55:12,813 Starting Bokeh server with process id: 91199\n",
      "[[0.4036406  0.44083156 0.42433878 0.41219409 0.29906975 0.35523799]\n",
      " [0.33026653 0.473891   0.40775897 0.38460824 0.32313851 0.34056775]\n",
      " [0.39434632 0.48117773 0.36945959 0.40694596 0.32819784 0.32244838]\n",
      " [0.35998744 0.43158295 0.35672841 0.38299284 0.2864201  0.29865834]\n",
      " [0.30628874 0.40331083 0.35696314 0.38754915 0.29975411 0.32440495]]\n",
      "2025-03-22 14:55:24,231 W-1000 (MISSING_RENDERERS): Plot has no renderers: figure(id='p1092', ...)\n",
      "2025-03-22 14:55:24,231 W-1000 (MISSING_RENDERERS): Plot has no renderers: figure(id='p1162', ...)\n",
      "2025-03-22 14:55:24,916 WebSocket connection opened\n",
      "2025-03-22 14:55:24,917 ServerConnection created\n",
      "^C\n",
      "\n",
      "Interrupted, shutting down\n"
     ]
    }
   ],
   "source": [
    "!bokeh serve --show app3.py"
   ]
  },
  {
   "cell_type": "code",
   "execution_count": 34,
   "id": "d7b0ba02-c402-4d65-9f2c-7cabbea392ac",
   "metadata": {},
   "outputs": [
    {
     "data": {
      "text/plain": [
       "array([[0.08786845, 0.54132165, 0.59286759, 0.69970678, 0.03287814,\n",
       "        0.79286123, 0.74491595, 0.76006483, 0.93879585, 0.664171  ],\n",
       "       [0.11353637, 0.70644525, 0.48613955, 0.95604554, 0.50786784,\n",
       "        0.84685765, 0.98462476, 0.89144011, 0.45740793, 0.86925753],\n",
       "       [0.82520584, 0.19425177, 0.10770322, 0.20743559, 0.87667629,\n",
       "        0.13240189, 0.15618961, 0.28875101, 0.9437995 , 0.76899678],\n",
       "       [0.36702704, 0.01133164, 0.42159591, 0.14231964, 0.57744893,\n",
       "        0.88174641, 0.74963369, 0.41413907, 0.86131414, 0.56396494],\n",
       "       [0.81213393, 0.41271461, 0.68326212, 0.05049474, 0.82685966,\n",
       "        0.53653533, 0.4156695 , 0.54013372, 0.95555806, 0.32664203],\n",
       "       [0.53300127, 0.56068645, 0.93901128, 0.17493331, 0.48067407,\n",
       "        0.8409843 , 0.18180876, 0.54753552, 0.46537592, 0.05697585],\n",
       "       [0.49031141, 0.423084  , 0.75863195, 0.34824488, 0.42110368,\n",
       "        0.69551042, 0.74667563, 0.20162895, 0.34015811, 0.22343285],\n",
       "       [0.50284095, 0.21163822, 0.85332588, 0.50437718, 0.67434577,\n",
       "        0.91094817, 0.31444495, 0.416193  , 0.04126371, 0.4766901 ],\n",
       "       [0.38792523, 0.70108849, 0.91301158, 0.67411991, 0.74573803,\n",
       "        0.62338058, 0.85581292, 0.27311913, 0.98266044, 0.61200783],\n",
       "       [0.15071792, 0.21449242, 0.69205419, 0.55897597, 0.45179041,\n",
       "        0.27671153, 0.60513128, 0.51063357, 0.71987587, 0.84773973]])"
      ]
     },
     "execution_count": 34,
     "metadata": {},
     "output_type": "execute_result"
    }
   ],
   "source": [
    " np.random.random((10, 10))"
   ]
  },
  {
   "cell_type": "code",
   "execution_count": 3,
   "id": "9d85fdda-228c-4dca-84c3-a4e9adf11a8b",
   "metadata": {},
   "outputs": [],
   "source": [
    "import pickle\n",
    "with open(\"data/fid_model.pkl\", 'rb') as f:\n",
    "    fid_model = pickle.load(f)"
   ]
  },
  {
   "cell_type": "code",
   "execution_count": 28,
   "id": "74e1963d-1f2b-43ec-bd58-bd5c49a1e3de",
   "metadata": {},
   "outputs": [
    {
     "data": {
      "text/plain": [
       "(10, 10)"
      ]
     },
     "execution_count": 28,
     "metadata": {},
     "output_type": "execute_result"
    }
   ],
   "source": [
    "import numpy as np\n",
    "np.random.random((10, 10)).shape"
   ]
  },
  {
   "cell_type": "code",
   "execution_count": 30,
   "id": "58279f76-d4ed-47f1-9024-9f3d95e3a08c",
   "metadata": {},
   "outputs": [
    {
     "data": {
      "text/plain": [
       "(5, 6)"
      ]
     },
     "execution_count": 30,
     "metadata": {},
     "output_type": "execute_result"
    }
   ],
   "source": [
    "from sharp_ratio import sharp_grid\n",
    "np.shape(sharp_grid(df_returns_fake))"
   ]
  },
  {
   "cell_type": "code",
   "execution_count": 2,
   "id": "7ee544d8-0af4-40bf-a53a-a9addeb52986",
   "metadata": {},
   "outputs": [],
   "source": [
    "import pandas as pd\n",
    "\n",
    "df_returns_real=pd.read_csv(\"data/real_data.csv\", index_col=0)\n",
    "df_returns_fake=pd.read_csv(\"data/fake_data.csv\", index_col=0)"
   ]
  },
  {
   "cell_type": "code",
   "execution_count": 3,
   "id": "63544a4e-b4c9-4c08-b8d7-3c236a823ca6",
   "metadata": {},
   "outputs": [],
   "source": [
    "%load_ext autoreload\n",
    "%autoreload 2"
   ]
  },
  {
   "cell_type": "code",
   "execution_count": 5,
   "id": "21091716-4e49-4849-aa07-8a4f020b1e83",
   "metadata": {},
   "outputs": [
    {
     "name": "stdout",
     "output_type": "stream",
     "text": [
      "с\n"
     ]
    },
    {
     "data": {
      "text/plain": [
       "0.008528099869022938"
      ]
     },
     "execution_count": 5,
     "metadata": {},
     "output_type": "execute_result"
    }
   ],
   "source": [
    "from fid import calculate_fid\n",
    "\n",
    "calculate_fid(df_returns_real, df_returns_fake)"
   ]
  },
  {
   "cell_type": "code",
   "execution_count": 5,
   "id": "45d14488-8e29-4856-b9bb-046c014692c7",
   "metadata": {},
   "outputs": [
    {
     "data": {
      "text/plain": [
       "(2706, 5)"
      ]
     },
     "execution_count": 5,
     "metadata": {},
     "output_type": "execute_result"
    }
   ],
   "source": [
    "df_returns_real.shape"
   ]
  },
  {
   "cell_type": "code",
   "execution_count": 6,
   "id": "6fe42690-0708-4946-8860-35ecbdd5b08c",
   "metadata": {},
   "outputs": [
    {
     "data": {
      "text/plain": [
       "(2706, 5)"
      ]
     },
     "execution_count": 6,
     "metadata": {},
     "output_type": "execute_result"
    }
   ],
   "source": [
    "df_returns_fake.shape"
   ]
  },
  {
   "cell_type": "code",
   "execution_count": 7,
   "id": "e5ce4f9e-cdd5-4939-874a-e28c0e445de2",
   "metadata": {},
   "outputs": [],
   "source": [
    "import torch"
   ]
  },
  {
   "cell_type": "code",
   "execution_count": null,
   "id": "2abeab1b-4ba4-49b5-86cc-286eda4c8521",
   "metadata": {},
   "outputs": [],
   "source": []
  },
  {
   "cell_type": "code",
   "execution_count": null,
   "id": "3f72e34d-ff90-4596-aba3-09f8f24d3313",
   "metadata": {},
   "outputs": [],
   "source": []
  },
  {
   "cell_type": "code",
   "execution_count": 8,
   "id": "3ed93750-53d5-4d6a-8532-763ea8e31aea",
   "metadata": {},
   "outputs": [],
   "source": [
    "from statsmodels.tsa.stattools import acf\n",
    "from scipy.signal import argrelextrema\n",
    "import numpy as np\n",
    "import pandas as pd\n",
    "import pickle\n",
    "from scipy.linalg import sqrtm\n",
    "from TSGBench.src.ts2vec import initialize_ts2vec\n",
    "import torch\n",
    "\n",
    "def find_length(data):\n",
    "    if len(data.shape)>1:\n",
    "        return 0\n",
    "    data = data[:min(20000, len(data))]\n",
    "    base = 3\n",
    "    nobs = len(data)\n",
    "    nlags = int(min(10 * np.log10(nobs), nobs - 1))\n",
    "    auto_corr = acf(data, nlags=nlags, fft=True)[base:]\n",
    "    local_max = argrelextrema(auto_corr, np.greater)[0]\n",
    "    try:\n",
    "        max_local_max = np.argmax([auto_corr[lcm] for lcm in local_max])\n",
    "        if local_max[max_local_max]<3 or local_max[max_local_max]>300:\n",
    "            return 125\n",
    "        return local_max[max_local_max]+base\n",
    "    except Exception as e:\n",
    "        print(e)\n",
    "        return 125\n",
    "\n",
    "def preprocess(data, step=1):\n",
    "    window_all = []\n",
    "    for i in range(data.shape[1]):\n",
    "        window_all.append(find_length(data[:,i]))\n",
    "\n",
    "    seq_length = int(np.mean(np.array(window_all)))\n",
    "\n",
    "    window_size = seq_length\n",
    "    \n",
    "    if data.ndim != 2:\n",
    "        raise ValueError(\"Input array must be 2D\")\n",
    "    L, C = data.shape  # Length and Channels\n",
    "    if L < window_size:\n",
    "        raise ValueError(\"Window size must be less than or equal to the length of the array\")\n",
    "\n",
    "    # Calculate the number of windows B\n",
    "    B = L - window_size + 1\n",
    "    \n",
    "    # Shape of the output array\n",
    "    new_shape = (B, window_size, C)\n",
    "    \n",
    "    # Calculate strides\n",
    "    original_strides = data.strides\n",
    "    new_strides = (original_strides[0],) + original_strides  # (stride for L, stride for W, stride for C)\n",
    "\n",
    "    # Create the sliding window view\n",
    "    strided_array = np.lib.stride_tricks.as_strided(data, shape=new_shape, strides=new_strides)\n",
    "    return strided_array\n",
    "\n",
    "\n",
    "    \n",
    "def calculate_fid(ori_data, gen_data):\n",
    "    print(\"с\")\n",
    "    ori_data = ori_data.to_numpy()\n",
    "    gen_data = gen_data.to_numpy()\n",
    "    ori_data = preprocess(ori_data)\n",
    "    gen_data = preprocess(gen_data)\n",
    "    fid_model = initialize_ts2vec(np.transpose(ori_data, (0, 2, 1)),torch.device('cpu'))\n",
    "    ori_repr = fid_model.encode(np.transpose(ori_data,(0, 2, 1)), encoding_window='full_series')\n",
    "    gen_repr = fid_model.encode(np.transpose(gen_data,(0, 2, 1)), encoding_window='full_series')\n",
    "    # calculate mean and covariance statistics\n",
    "    mu1, sigma1 = act1.mean(axis=0), np.cov(act1, rowvar=False)\n",
    "    mu2, sigma2 = act2.mean(axis=0), np.cov(act2, rowvar=False)\n",
    "    # calculate sum squared difference between means\n",
    "    ssdiff = np.sum((mu1 - mu2)**2.0)\n",
    "    # calculate sqrt of product between cov\n",
    "    covmean = sqrtm(sigma1.dot(sigma2))\n",
    "    # check and correct imaginary numbers from sqrt\n",
    "    if np.iscomplexobj(covmean):\n",
    "        covmean = covmean.real\n",
    "    # calculate score\n",
    "    fid = ssdiff + np.trace(sigma1 + sigma2 - 2.0 * covmean)\n",
    "    return fid\n",
    "\n",
    "def evaluate_data(ori_data, gen_data):\n",
    "    train_data = ori_data\n",
    "    fid_model = initialize_ts2vec(np.transpose(train_data, (0, 2, 1)),torch.device('cpu'))\n",
    "    ori_repr = fid_model.encode(np.transpose(ori_data,(0, 2, 1)), encoding_window='full_series')\n",
    "    gen_repr = fid_model.encode(np.transpose(gen_data,(0, 2, 1)), encoding_window='full_series')\n",
    "    cfid = calculate_fid(ori_repr,gen_repr)\n",
    "    return cfid"
   ]
  },
  {
   "cell_type": "code",
   "execution_count": 9,
   "id": "02c6a60c-7875-40b7-85c9-28446e1edcc5",
   "metadata": {},
   "outputs": [
    {
     "ename": "RuntimeError",
     "evalue": "mat1 and mat2 shapes cannot be multiplied (40x12 and 43x64)",
     "output_type": "error",
     "traceback": [
      "\u001b[0;31m---------------------------------------------------------------------------\u001b[0m",
      "\u001b[0;31mRuntimeError\u001b[0m                              Traceback (most recent call last)",
      "Cell \u001b[0;32mIn[9], line 7\u001b[0m\n\u001b[1;32m      5\u001b[0m fid_model \u001b[38;5;241m=\u001b[39m initialize_ts2vec(np\u001b[38;5;241m.\u001b[39mtranspose(ori_data, (\u001b[38;5;241m0\u001b[39m, \u001b[38;5;241m2\u001b[39m, \u001b[38;5;241m1\u001b[39m)),torch\u001b[38;5;241m.\u001b[39mdevice(\u001b[38;5;124m'\u001b[39m\u001b[38;5;124mcpu\u001b[39m\u001b[38;5;124m'\u001b[39m))\n\u001b[1;32m      6\u001b[0m ori_repr \u001b[38;5;241m=\u001b[39m fid_model\u001b[38;5;241m.\u001b[39mencode(np\u001b[38;5;241m.\u001b[39mtranspose(ori_data,(\u001b[38;5;241m0\u001b[39m, \u001b[38;5;241m2\u001b[39m, \u001b[38;5;241m1\u001b[39m)), encoding_window\u001b[38;5;241m=\u001b[39m\u001b[38;5;124m'\u001b[39m\u001b[38;5;124mfull_series\u001b[39m\u001b[38;5;124m'\u001b[39m)\n\u001b[0;32m----> 7\u001b[0m gen_repr \u001b[38;5;241m=\u001b[39m \u001b[43mfid_model\u001b[49m\u001b[38;5;241;43m.\u001b[39;49m\u001b[43mencode\u001b[49m\u001b[43m(\u001b[49m\u001b[43mnp\u001b[49m\u001b[38;5;241;43m.\u001b[39;49m\u001b[43mtranspose\u001b[49m\u001b[43m(\u001b[49m\u001b[43mgen_data\u001b[49m\u001b[43m,\u001b[49m\u001b[43m(\u001b[49m\u001b[38;5;241;43m0\u001b[39;49m\u001b[43m,\u001b[49m\u001b[43m \u001b[49m\u001b[38;5;241;43m2\u001b[39;49m\u001b[43m,\u001b[49m\u001b[43m \u001b[49m\u001b[38;5;241;43m1\u001b[39;49m\u001b[43m)\u001b[49m\u001b[43m)\u001b[49m\u001b[43m,\u001b[49m\u001b[43m \u001b[49m\u001b[43mencoding_window\u001b[49m\u001b[38;5;241;43m=\u001b[39;49m\u001b[38;5;124;43m'\u001b[39;49m\u001b[38;5;124;43mfull_series\u001b[39;49m\u001b[38;5;124;43m'\u001b[39;49m\u001b[43m)\u001b[49m\n\u001b[1;32m      8\u001b[0m \u001b[38;5;66;03m# calculate mean and covariance statistics\u001b[39;00m\n\u001b[1;32m      9\u001b[0m mu1, sigma1 \u001b[38;5;241m=\u001b[39m act1\u001b[38;5;241m.\u001b[39mmean(axis\u001b[38;5;241m=\u001b[39m\u001b[38;5;241m0\u001b[39m), np\u001b[38;5;241m.\u001b[39mcov(act1, rowvar\u001b[38;5;241m=\u001b[39m\u001b[38;5;28;01mFalse\u001b[39;00m)\n",
      "File \u001b[0;32m~/Desktop/курсач/dashboard/TSGBench/src/ts2vec.py:305\u001b[0m, in \u001b[0;36mTS2Vec.encode\u001b[0;34m(self, data, mask, encoding_window, casual, sliding_length, sliding_padding, batch_size)\u001b[0m\n\u001b[1;32m    300\u001b[0m         out \u001b[38;5;241m=\u001b[39m F\u001b[38;5;241m.\u001b[39mmax_pool1d(\n\u001b[1;32m    301\u001b[0m             out\u001b[38;5;241m.\u001b[39mtranspose(\u001b[38;5;241m1\u001b[39m, \u001b[38;5;241m2\u001b[39m)\u001b[38;5;241m.\u001b[39mcontiguous(),\n\u001b[1;32m    302\u001b[0m             kernel_size \u001b[38;5;241m=\u001b[39m out\u001b[38;5;241m.\u001b[39msize(\u001b[38;5;241m1\u001b[39m),\n\u001b[1;32m    303\u001b[0m         )\u001b[38;5;241m.\u001b[39msqueeze(\u001b[38;5;241m1\u001b[39m)\n\u001b[1;32m    304\u001b[0m \u001b[38;5;28;01melse\u001b[39;00m:\n\u001b[0;32m--> 305\u001b[0m     out \u001b[38;5;241m=\u001b[39m \u001b[38;5;28;43mself\u001b[39;49m\u001b[38;5;241;43m.\u001b[39;49m\u001b[43m_eval_with_pooling\u001b[49m\u001b[43m(\u001b[49m\u001b[43mx\u001b[49m\u001b[43m,\u001b[49m\u001b[43m \u001b[49m\u001b[43mmask\u001b[49m\u001b[43m,\u001b[49m\u001b[43m \u001b[49m\u001b[43mencoding_window\u001b[49m\u001b[38;5;241;43m=\u001b[39;49m\u001b[43mencoding_window\u001b[49m\u001b[43m)\u001b[49m\n\u001b[1;32m    306\u001b[0m     \u001b[38;5;28;01mif\u001b[39;00m encoding_window \u001b[38;5;241m==\u001b[39m \u001b[38;5;124m'\u001b[39m\u001b[38;5;124mfull_series\u001b[39m\u001b[38;5;124m'\u001b[39m:\n\u001b[1;32m    307\u001b[0m         out \u001b[38;5;241m=\u001b[39m out\u001b[38;5;241m.\u001b[39msqueeze(\u001b[38;5;241m1\u001b[39m)\n",
      "File \u001b[0;32m~/Desktop/курсач/dashboard/TSGBench/src/ts2vec.py:176\u001b[0m, in \u001b[0;36mTS2Vec._eval_with_pooling\u001b[0;34m(self, x, mask, slicing, encoding_window)\u001b[0m\n\u001b[1;32m    175\u001b[0m \u001b[38;5;28;01mdef\u001b[39;00m\u001b[38;5;250m \u001b[39m\u001b[38;5;21m_eval_with_pooling\u001b[39m(\u001b[38;5;28mself\u001b[39m, x, mask\u001b[38;5;241m=\u001b[39m\u001b[38;5;28;01mNone\u001b[39;00m, slicing\u001b[38;5;241m=\u001b[39m\u001b[38;5;28;01mNone\u001b[39;00m, encoding_window\u001b[38;5;241m=\u001b[39m\u001b[38;5;28;01mNone\u001b[39;00m):\n\u001b[0;32m--> 176\u001b[0m     out \u001b[38;5;241m=\u001b[39m \u001b[38;5;28;43mself\u001b[39;49m\u001b[38;5;241;43m.\u001b[39;49m\u001b[43mnet\u001b[49m\u001b[43m(\u001b[49m\u001b[43mx\u001b[49m\u001b[38;5;241;43m.\u001b[39;49m\u001b[43mto\u001b[49m\u001b[43m(\u001b[49m\u001b[38;5;28;43mself\u001b[39;49m\u001b[38;5;241;43m.\u001b[39;49m\u001b[43mdevice\u001b[49m\u001b[43m,\u001b[49m\u001b[43m \u001b[49m\u001b[43mnon_blocking\u001b[49m\u001b[38;5;241;43m=\u001b[39;49m\u001b[38;5;28;43;01mTrue\u001b[39;49;00m\u001b[43m)\u001b[49m\u001b[43m,\u001b[49m\u001b[43m \u001b[49m\u001b[43mmask\u001b[49m\u001b[43m)\u001b[49m\n\u001b[1;32m    177\u001b[0m     \u001b[38;5;28;01mif\u001b[39;00m encoding_window \u001b[38;5;241m==\u001b[39m \u001b[38;5;124m'\u001b[39m\u001b[38;5;124mfull_series\u001b[39m\u001b[38;5;124m'\u001b[39m:\n\u001b[1;32m    178\u001b[0m         \u001b[38;5;28;01mif\u001b[39;00m slicing \u001b[38;5;129;01mis\u001b[39;00m \u001b[38;5;129;01mnot\u001b[39;00m \u001b[38;5;28;01mNone\u001b[39;00m:\n",
      "File \u001b[0;32m~/opt/anaconda3/envs/myenv/lib/python3.11/site-packages/torch/nn/modules/module.py:1511\u001b[0m, in \u001b[0;36mModule._wrapped_call_impl\u001b[0;34m(self, *args, **kwargs)\u001b[0m\n\u001b[1;32m   1509\u001b[0m     \u001b[38;5;28;01mreturn\u001b[39;00m \u001b[38;5;28mself\u001b[39m\u001b[38;5;241m.\u001b[39m_compiled_call_impl(\u001b[38;5;241m*\u001b[39margs, \u001b[38;5;241m*\u001b[39m\u001b[38;5;241m*\u001b[39mkwargs)  \u001b[38;5;66;03m# type: ignore[misc]\u001b[39;00m\n\u001b[1;32m   1510\u001b[0m \u001b[38;5;28;01melse\u001b[39;00m:\n\u001b[0;32m-> 1511\u001b[0m     \u001b[38;5;28;01mreturn\u001b[39;00m \u001b[38;5;28;43mself\u001b[39;49m\u001b[38;5;241;43m.\u001b[39;49m\u001b[43m_call_impl\u001b[49m\u001b[43m(\u001b[49m\u001b[38;5;241;43m*\u001b[39;49m\u001b[43margs\u001b[49m\u001b[43m,\u001b[49m\u001b[43m \u001b[49m\u001b[38;5;241;43m*\u001b[39;49m\u001b[38;5;241;43m*\u001b[39;49m\u001b[43mkwargs\u001b[49m\u001b[43m)\u001b[49m\n",
      "File \u001b[0;32m~/opt/anaconda3/envs/myenv/lib/python3.11/site-packages/torch/nn/modules/module.py:1520\u001b[0m, in \u001b[0;36mModule._call_impl\u001b[0;34m(self, *args, **kwargs)\u001b[0m\n\u001b[1;32m   1515\u001b[0m \u001b[38;5;66;03m# If we don't have any hooks, we want to skip the rest of the logic in\u001b[39;00m\n\u001b[1;32m   1516\u001b[0m \u001b[38;5;66;03m# this function, and just call forward.\u001b[39;00m\n\u001b[1;32m   1517\u001b[0m \u001b[38;5;28;01mif\u001b[39;00m \u001b[38;5;129;01mnot\u001b[39;00m (\u001b[38;5;28mself\u001b[39m\u001b[38;5;241m.\u001b[39m_backward_hooks \u001b[38;5;129;01mor\u001b[39;00m \u001b[38;5;28mself\u001b[39m\u001b[38;5;241m.\u001b[39m_backward_pre_hooks \u001b[38;5;129;01mor\u001b[39;00m \u001b[38;5;28mself\u001b[39m\u001b[38;5;241m.\u001b[39m_forward_hooks \u001b[38;5;129;01mor\u001b[39;00m \u001b[38;5;28mself\u001b[39m\u001b[38;5;241m.\u001b[39m_forward_pre_hooks\n\u001b[1;32m   1518\u001b[0m         \u001b[38;5;129;01mor\u001b[39;00m _global_backward_pre_hooks \u001b[38;5;129;01mor\u001b[39;00m _global_backward_hooks\n\u001b[1;32m   1519\u001b[0m         \u001b[38;5;129;01mor\u001b[39;00m _global_forward_hooks \u001b[38;5;129;01mor\u001b[39;00m _global_forward_pre_hooks):\n\u001b[0;32m-> 1520\u001b[0m     \u001b[38;5;28;01mreturn\u001b[39;00m \u001b[43mforward_call\u001b[49m\u001b[43m(\u001b[49m\u001b[38;5;241;43m*\u001b[39;49m\u001b[43margs\u001b[49m\u001b[43m,\u001b[49m\u001b[43m \u001b[49m\u001b[38;5;241;43m*\u001b[39;49m\u001b[38;5;241;43m*\u001b[39;49m\u001b[43mkwargs\u001b[49m\u001b[43m)\u001b[49m\n\u001b[1;32m   1522\u001b[0m \u001b[38;5;28;01mtry\u001b[39;00m:\n\u001b[1;32m   1523\u001b[0m     result \u001b[38;5;241m=\u001b[39m \u001b[38;5;28;01mNone\u001b[39;00m\n",
      "File \u001b[0;32m~/opt/anaconda3/envs/myenv/lib/python3.11/site-packages/torch/optim/swa_utils.py:178\u001b[0m, in \u001b[0;36mAveragedModel.forward\u001b[0;34m(self, *args, **kwargs)\u001b[0m\n\u001b[1;32m    177\u001b[0m \u001b[38;5;28;01mdef\u001b[39;00m\u001b[38;5;250m \u001b[39m\u001b[38;5;21mforward\u001b[39m(\u001b[38;5;28mself\u001b[39m, \u001b[38;5;241m*\u001b[39margs, \u001b[38;5;241m*\u001b[39m\u001b[38;5;241m*\u001b[39mkwargs):\n\u001b[0;32m--> 178\u001b[0m     \u001b[38;5;28;01mreturn\u001b[39;00m \u001b[38;5;28;43mself\u001b[39;49m\u001b[38;5;241;43m.\u001b[39;49m\u001b[43mmodule\u001b[49m\u001b[43m(\u001b[49m\u001b[38;5;241;43m*\u001b[39;49m\u001b[43margs\u001b[49m\u001b[43m,\u001b[49m\u001b[43m \u001b[49m\u001b[38;5;241;43m*\u001b[39;49m\u001b[38;5;241;43m*\u001b[39;49m\u001b[43mkwargs\u001b[49m\u001b[43m)\u001b[49m\n",
      "File \u001b[0;32m~/opt/anaconda3/envs/myenv/lib/python3.11/site-packages/torch/nn/modules/module.py:1511\u001b[0m, in \u001b[0;36mModule._wrapped_call_impl\u001b[0;34m(self, *args, **kwargs)\u001b[0m\n\u001b[1;32m   1509\u001b[0m     \u001b[38;5;28;01mreturn\u001b[39;00m \u001b[38;5;28mself\u001b[39m\u001b[38;5;241m.\u001b[39m_compiled_call_impl(\u001b[38;5;241m*\u001b[39margs, \u001b[38;5;241m*\u001b[39m\u001b[38;5;241m*\u001b[39mkwargs)  \u001b[38;5;66;03m# type: ignore[misc]\u001b[39;00m\n\u001b[1;32m   1510\u001b[0m \u001b[38;5;28;01melse\u001b[39;00m:\n\u001b[0;32m-> 1511\u001b[0m     \u001b[38;5;28;01mreturn\u001b[39;00m \u001b[38;5;28;43mself\u001b[39;49m\u001b[38;5;241;43m.\u001b[39;49m\u001b[43m_call_impl\u001b[49m\u001b[43m(\u001b[49m\u001b[38;5;241;43m*\u001b[39;49m\u001b[43margs\u001b[49m\u001b[43m,\u001b[49m\u001b[43m \u001b[49m\u001b[38;5;241;43m*\u001b[39;49m\u001b[38;5;241;43m*\u001b[39;49m\u001b[43mkwargs\u001b[49m\u001b[43m)\u001b[49m\n",
      "File \u001b[0;32m~/opt/anaconda3/envs/myenv/lib/python3.11/site-packages/torch/nn/modules/module.py:1520\u001b[0m, in \u001b[0;36mModule._call_impl\u001b[0;34m(self, *args, **kwargs)\u001b[0m\n\u001b[1;32m   1515\u001b[0m \u001b[38;5;66;03m# If we don't have any hooks, we want to skip the rest of the logic in\u001b[39;00m\n\u001b[1;32m   1516\u001b[0m \u001b[38;5;66;03m# this function, and just call forward.\u001b[39;00m\n\u001b[1;32m   1517\u001b[0m \u001b[38;5;28;01mif\u001b[39;00m \u001b[38;5;129;01mnot\u001b[39;00m (\u001b[38;5;28mself\u001b[39m\u001b[38;5;241m.\u001b[39m_backward_hooks \u001b[38;5;129;01mor\u001b[39;00m \u001b[38;5;28mself\u001b[39m\u001b[38;5;241m.\u001b[39m_backward_pre_hooks \u001b[38;5;129;01mor\u001b[39;00m \u001b[38;5;28mself\u001b[39m\u001b[38;5;241m.\u001b[39m_forward_hooks \u001b[38;5;129;01mor\u001b[39;00m \u001b[38;5;28mself\u001b[39m\u001b[38;5;241m.\u001b[39m_forward_pre_hooks\n\u001b[1;32m   1518\u001b[0m         \u001b[38;5;129;01mor\u001b[39;00m _global_backward_pre_hooks \u001b[38;5;129;01mor\u001b[39;00m _global_backward_hooks\n\u001b[1;32m   1519\u001b[0m         \u001b[38;5;129;01mor\u001b[39;00m _global_forward_hooks \u001b[38;5;129;01mor\u001b[39;00m _global_forward_pre_hooks):\n\u001b[0;32m-> 1520\u001b[0m     \u001b[38;5;28;01mreturn\u001b[39;00m \u001b[43mforward_call\u001b[49m\u001b[43m(\u001b[49m\u001b[38;5;241;43m*\u001b[39;49m\u001b[43margs\u001b[49m\u001b[43m,\u001b[49m\u001b[43m \u001b[49m\u001b[38;5;241;43m*\u001b[39;49m\u001b[38;5;241;43m*\u001b[39;49m\u001b[43mkwargs\u001b[49m\u001b[43m)\u001b[49m\n\u001b[1;32m   1522\u001b[0m \u001b[38;5;28;01mtry\u001b[39;00m:\n\u001b[1;32m   1523\u001b[0m     result \u001b[38;5;241m=\u001b[39m \u001b[38;5;28;01mNone\u001b[39;00m\n",
      "File \u001b[0;32m~/Desktop/курсач/dashboard/TSGBench/src/ts2vec.py:370\u001b[0m, in \u001b[0;36mTSEncoder.forward\u001b[0;34m(self, x, mask)\u001b[0m\n\u001b[1;32m    368\u001b[0m nan_mask \u001b[38;5;241m=\u001b[39m \u001b[38;5;241m~\u001b[39mx\u001b[38;5;241m.\u001b[39misnan()\u001b[38;5;241m.\u001b[39many(axis\u001b[38;5;241m=\u001b[39m\u001b[38;5;241m-\u001b[39m\u001b[38;5;241m1\u001b[39m)\n\u001b[1;32m    369\u001b[0m x[\u001b[38;5;241m~\u001b[39mnan_mask] \u001b[38;5;241m=\u001b[39m \u001b[38;5;241m0\u001b[39m\n\u001b[0;32m--> 370\u001b[0m x \u001b[38;5;241m=\u001b[39m \u001b[38;5;28;43mself\u001b[39;49m\u001b[38;5;241;43m.\u001b[39;49m\u001b[43minput_fc\u001b[49m\u001b[43m(\u001b[49m\u001b[43mx\u001b[49m\u001b[43m)\u001b[49m  \u001b[38;5;66;03m# B x T x Ch\u001b[39;00m\n\u001b[1;32m    372\u001b[0m \u001b[38;5;66;03m# generate & apply mask\u001b[39;00m\n\u001b[1;32m    373\u001b[0m \u001b[38;5;28;01mif\u001b[39;00m mask \u001b[38;5;129;01mis\u001b[39;00m \u001b[38;5;28;01mNone\u001b[39;00m:\n",
      "File \u001b[0;32m~/opt/anaconda3/envs/myenv/lib/python3.11/site-packages/torch/nn/modules/module.py:1511\u001b[0m, in \u001b[0;36mModule._wrapped_call_impl\u001b[0;34m(self, *args, **kwargs)\u001b[0m\n\u001b[1;32m   1509\u001b[0m     \u001b[38;5;28;01mreturn\u001b[39;00m \u001b[38;5;28mself\u001b[39m\u001b[38;5;241m.\u001b[39m_compiled_call_impl(\u001b[38;5;241m*\u001b[39margs, \u001b[38;5;241m*\u001b[39m\u001b[38;5;241m*\u001b[39mkwargs)  \u001b[38;5;66;03m# type: ignore[misc]\u001b[39;00m\n\u001b[1;32m   1510\u001b[0m \u001b[38;5;28;01melse\u001b[39;00m:\n\u001b[0;32m-> 1511\u001b[0m     \u001b[38;5;28;01mreturn\u001b[39;00m \u001b[38;5;28;43mself\u001b[39;49m\u001b[38;5;241;43m.\u001b[39;49m\u001b[43m_call_impl\u001b[49m\u001b[43m(\u001b[49m\u001b[38;5;241;43m*\u001b[39;49m\u001b[43margs\u001b[49m\u001b[43m,\u001b[49m\u001b[43m \u001b[49m\u001b[38;5;241;43m*\u001b[39;49m\u001b[38;5;241;43m*\u001b[39;49m\u001b[43mkwargs\u001b[49m\u001b[43m)\u001b[49m\n",
      "File \u001b[0;32m~/opt/anaconda3/envs/myenv/lib/python3.11/site-packages/torch/nn/modules/module.py:1520\u001b[0m, in \u001b[0;36mModule._call_impl\u001b[0;34m(self, *args, **kwargs)\u001b[0m\n\u001b[1;32m   1515\u001b[0m \u001b[38;5;66;03m# If we don't have any hooks, we want to skip the rest of the logic in\u001b[39;00m\n\u001b[1;32m   1516\u001b[0m \u001b[38;5;66;03m# this function, and just call forward.\u001b[39;00m\n\u001b[1;32m   1517\u001b[0m \u001b[38;5;28;01mif\u001b[39;00m \u001b[38;5;129;01mnot\u001b[39;00m (\u001b[38;5;28mself\u001b[39m\u001b[38;5;241m.\u001b[39m_backward_hooks \u001b[38;5;129;01mor\u001b[39;00m \u001b[38;5;28mself\u001b[39m\u001b[38;5;241m.\u001b[39m_backward_pre_hooks \u001b[38;5;129;01mor\u001b[39;00m \u001b[38;5;28mself\u001b[39m\u001b[38;5;241m.\u001b[39m_forward_hooks \u001b[38;5;129;01mor\u001b[39;00m \u001b[38;5;28mself\u001b[39m\u001b[38;5;241m.\u001b[39m_forward_pre_hooks\n\u001b[1;32m   1518\u001b[0m         \u001b[38;5;129;01mor\u001b[39;00m _global_backward_pre_hooks \u001b[38;5;129;01mor\u001b[39;00m _global_backward_hooks\n\u001b[1;32m   1519\u001b[0m         \u001b[38;5;129;01mor\u001b[39;00m _global_forward_hooks \u001b[38;5;129;01mor\u001b[39;00m _global_forward_pre_hooks):\n\u001b[0;32m-> 1520\u001b[0m     \u001b[38;5;28;01mreturn\u001b[39;00m \u001b[43mforward_call\u001b[49m\u001b[43m(\u001b[49m\u001b[38;5;241;43m*\u001b[39;49m\u001b[43margs\u001b[49m\u001b[43m,\u001b[49m\u001b[43m \u001b[49m\u001b[38;5;241;43m*\u001b[39;49m\u001b[38;5;241;43m*\u001b[39;49m\u001b[43mkwargs\u001b[49m\u001b[43m)\u001b[49m\n\u001b[1;32m   1522\u001b[0m \u001b[38;5;28;01mtry\u001b[39;00m:\n\u001b[1;32m   1523\u001b[0m     result \u001b[38;5;241m=\u001b[39m \u001b[38;5;28;01mNone\u001b[39;00m\n",
      "File \u001b[0;32m~/opt/anaconda3/envs/myenv/lib/python3.11/site-packages/torch/nn/modules/linear.py:116\u001b[0m, in \u001b[0;36mLinear.forward\u001b[0;34m(self, input)\u001b[0m\n\u001b[1;32m    115\u001b[0m \u001b[38;5;28;01mdef\u001b[39;00m\u001b[38;5;250m \u001b[39m\u001b[38;5;21mforward\u001b[39m(\u001b[38;5;28mself\u001b[39m, \u001b[38;5;28minput\u001b[39m: Tensor) \u001b[38;5;241m-\u001b[39m\u001b[38;5;241m>\u001b[39m Tensor:\n\u001b[0;32m--> 116\u001b[0m     \u001b[38;5;28;01mreturn\u001b[39;00m \u001b[43mF\u001b[49m\u001b[38;5;241;43m.\u001b[39;49m\u001b[43mlinear\u001b[49m\u001b[43m(\u001b[49m\u001b[38;5;28;43minput\u001b[39;49m\u001b[43m,\u001b[49m\u001b[43m \u001b[49m\u001b[38;5;28;43mself\u001b[39;49m\u001b[38;5;241;43m.\u001b[39;49m\u001b[43mweight\u001b[49m\u001b[43m,\u001b[49m\u001b[43m \u001b[49m\u001b[38;5;28;43mself\u001b[39;49m\u001b[38;5;241;43m.\u001b[39;49m\u001b[43mbias\u001b[49m\u001b[43m)\u001b[49m\n",
      "\u001b[0;31mRuntimeError\u001b[0m: mat1 and mat2 shapes cannot be multiplied (40x12 and 43x64)"
     ]
    }
   ],
   "source": [
    "ori_data = df_returns_real.to_numpy()\n",
    "gen_data = df_returns_fake.to_numpy()\n",
    "ori_data = preprocess(ori_data)\n",
    "gen_data = preprocess(gen_data)\n",
    "fid_model = initialize_ts2vec(np.transpose(ori_data, (0, 2, 1)),torch.device('cpu'))\n",
    "ori_repr = fid_model.encode(np.transpose(ori_data,(0, 2, 1)), encoding_window='full_series')\n",
    "gen_repr = fid_model.encode(np.transpose(gen_data,(0, 2, 1)), encoding_window='full_series')\n",
    "# calculate mean and covariance statistics\n",
    "mu1, sigma1 = act1.mean(axis=0), np.cov(act1, rowvar=False)\n",
    "mu2, sigma2 = act2.mean(axis=0), np.cov(act2, rowvar=False)\n",
    "# calculate sum squared difference between means\n",
    "ssdiff = np.sum((mu1 - mu2)**2.0)\n",
    "# calculate sqrt of product between cov\n",
    "covmean = sqrtm(sigma1.dot(sigma2))\n",
    "# check and correct imaginary numbers from sqrt\n",
    "if np.iscomplexobj(covmean):\n",
    "    covmean = covmean.real\n",
    "# calculate score\n",
    "fid = ssdiff + np.trace(sigma1 + sigma2 - 2.0 * covmean)"
   ]
  },
  {
   "cell_type": "code",
   "execution_count": 10,
   "id": "bc8bb7e5-2931-4c5b-a0a0-454ae242e6ba",
   "metadata": {},
   "outputs": [
    {
     "data": {
      "text/plain": [
       "(2695, 12, 5)"
      ]
     },
     "execution_count": 10,
     "metadata": {},
     "output_type": "execute_result"
    }
   ],
   "source": [
    "gen_data.shape"
   ]
  },
  {
   "cell_type": "code",
   "execution_count": 11,
   "id": "f49730fd-1833-4f5f-911d-77b201dcc880",
   "metadata": {},
   "outputs": [
    {
     "data": {
      "text/plain": [
       "(2664, 43, 5)"
      ]
     },
     "execution_count": 11,
     "metadata": {},
     "output_type": "execute_result"
    }
   ],
   "source": [
    "ori_data.shape"
   ]
  },
  {
   "cell_type": "code",
   "execution_count": null,
   "id": "0231f038-72a4-43d9-8406-4a84576ff386",
   "metadata": {},
   "outputs": [],
   "source": []
  }
 ],
 "metadata": {
  "kernelspec": {
   "display_name": "Python 3 (ipykernel)",
   "language": "python",
   "name": "python3"
  },
  "language_info": {
   "codemirror_mode": {
    "name": "ipython",
    "version": 3
   },
   "file_extension": ".py",
   "mimetype": "text/x-python",
   "name": "python",
   "nbconvert_exporter": "python",
   "pygments_lexer": "ipython3",
   "version": "3.11.11"
  }
 },
 "nbformat": 4,
 "nbformat_minor": 5
}
